{
  "nbformat": 4,
  "nbformat_minor": 0,
  "metadata": {
    "colab": {
      "name": "BCS 109 2/11/22 ",
      "provenance": [],
      "collapsed_sections": []
    },
    "kernelspec": {
      "name": "python3",
      "display_name": "Python 3"
    },
    "language_info": {
      "name": "python"
    }
  },
  "cells": [
    {
      "cell_type": "markdown",
      "source": [
        "# Hw 2\n",
        "\n",
        "My name is **Edgar Galeas**. I enjoy *working out*, here are some some of my favorite exercises:\n",
        "\n",
        "1.   Bench press \n",
        "2.   Squats\n",
        "3.   Sholder press \n",
        "4.   Cable Chest fly's\n",
        "\n",
        "Here is a link, where you can find motivation to workout. [link text](https://www.youtube.com/watch?v=s8hWQwFwayo)\n",
        "\n",
        "\n",
        "\n",
        "\n"
      ],
      "metadata": {
        "id": "VXvLXl0kNJhF"
      }
    },
    {
      "cell_type": "markdown",
      "source": [
        ""
      ],
      "metadata": {
        "id": "eTLZfSmMM9iv"
      }
    }
  ]
}